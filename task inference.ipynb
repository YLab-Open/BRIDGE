{
 "cells": [
  {
   "cell_type": "markdown",
   "metadata": {},
   "source": [
    "## Import"
   ]
  },
  {
   "cell_type": "code",
   "execution_count": null,
   "metadata": {},
   "outputs": [],
   "source": [
    "import os\n",
    "os.environ[\"CUDA_VISIBLE_DEVICES\"] = \"0\"\n",
    "# \"0,1,2,3\"\n",
    "num_gpus = len(os.environ[\"CUDA_VISIBLE_DEVICES\"].split(\",\"))\n",
    "print(\"num_gpus:\", num_gpus)\n",
    "print(\"CUDA_VISIBLE_DEVICES:\", os.environ[\"CUDA_VISIBLE_DEVICES\"])"
   ]
  },
  {
   "cell_type": "code",
   "execution_count": null,
   "metadata": {},
   "outputs": [],
   "source": [
    "import re\n",
    "import sys\n",
    "import json\n",
    "import random\n",
    "import numpy as np\n",
    "import pandas as pd\n",
    "from tqdm import tqdm\n",
    "import matplotlib.pyplot as plt"
   ]
  },
  {
   "cell_type": "code",
   "execution_count": null,
   "metadata": {},
   "outputs": [],
   "source": [
    "import torch\n",
    "import transformers\n",
    "from transformers import AutoTokenizer, AutoModel\n",
    "from vllm import LLM, SamplingParams"
   ]
  },
  {
   "cell_type": "code",
   "execution_count": null,
   "metadata": {},
   "outputs": [],
   "source": [
    "from dataset.process import format_chat"
   ]
  },
  {
   "cell_type": "code",
   "execution_count": null,
   "metadata": {},
   "outputs": [],
   "source": [
    "def seed_everything(seed):\n",
    "    seed = int(seed)\n",
    "    random.seed(seed)\n",
    "    os.environ[\"PYTHONHASHSEED\"] = str(seed)\n",
    "    np.random.seed(seed)\n",
    "    torch.manual_seed(seed)\n",
    "    torch.cuda.manual_seed(seed)\n",
    "    torch.cuda.manual_seed_all(seed)\n",
    "    torch.backends.cudnn.deterministic = True\n",
    "    transformers.set_seed(seed)\n",
    "    print(f\"seed everything: {seed}\")\n",
    "\n",
    "seed = 42\n",
    "seed_everything(seed=seed)"
   ]
  },
  {
   "cell_type": "markdown",
   "metadata": {},
   "source": [
    "## Task"
   ]
  },
  {
   "cell_type": "markdown",
   "metadata": {},
   "source": [
    "## Tokenizer"
   ]
  },
  {
   "cell_type": "code",
   "execution_count": null,
   "metadata": {},
   "outputs": [],
   "source": [
    "# name of model\n",
    "with open(\"dict_model_path.json\", \"r\") as f:\n",
    "    dict_model_path = json.load(f)"
   ]
  },
  {
   "cell_type": "code",
   "execution_count": null,
   "metadata": {},
   "outputs": [],
   "source": [
    "model_name = 'Llama-3.1-8B-Instruct'\n",
    "path_dir_model = dict_model_path[model_name]\n",
    "path_dir_model"
   ]
  },
  {
   "cell_type": "code",
   "execution_count": null,
   "metadata": {},
   "outputs": [],
   "source": [
    "# # loading tokenizer\n",
    "tokenizer = AutoTokenizer.from_pretrained(path_dir_model, padding_side='left')"
   ]
  },
  {
   "cell_type": "markdown",
   "metadata": {},
   "source": [
    "## Task class"
   ]
  },
  {
   "cell_type": "code",
   "execution_count": null,
   "metadata": {},
   "outputs": [],
   "source": [
    "class EmptyArgs:\n",
    "    def __init__(self):\n",
    "        self.batch_size = 32\n",
    "        self.gpus = os.environ[\"CUDA_VISIBLE_DEVICES\"].split(\",\")\n",
    "        self.model_path = path_dir_model\n",
    "        self.model_name = model_name\n",
    "\n",
    "args = EmptyArgs()"
   ]
  },
  {
   "cell_type": "code",
   "execution_count": null,
   "metadata": {},
   "outputs": [],
   "source": [
    "from model.init import load_config\n",
    "\n",
    "load_config(args)\n",
    "args.__dict__"
   ]
  },
  {
   "cell_type": "code",
   "execution_count": null,
   "metadata": {},
   "outputs": [],
   "source": [
    "task_name = \"BrainMRI-AIS\""
   ]
  },
  {
   "cell_type": "code",
   "execution_count": null,
   "metadata": {},
   "outputs": [],
   "source": [
    "path_file_data = f\"dataset_raw/{task_name}.SFT.json\"\n",
    "print(f\"Loading {path_file_data} ...\")\n",
    "with open(path_file_data, \"r\") as file:\n",
    "    list_dict_data = json.load(file)\n",
    "list_dict_data = [\n",
    "    dict_data for dict_data in list_dict_data if dict_data[\"split\"] == \"test\"\n",
    "]\n",
    "print(f\"The number of data: {len(list_dict_data)}\")"
   ]
  },
  {
   "cell_type": "code",
   "execution_count": null,
   "metadata": {},
   "outputs": [],
   "source": [
    "list_dict_data[0]"
   ]
  },
  {
   "cell_type": "code",
   "execution_count": null,
   "metadata": {},
   "outputs": [],
   "source": [
    "from dataset.classification import Task_clf_Brain_MRI_AIS\n",
    "task = Task_clf_Brain_MRI_AIS(args=args, task=task_name)"
   ]
  },
  {
   "cell_type": "code",
   "execution_count": null,
   "metadata": {},
   "outputs": [],
   "source": [
    "task.setup(tokenizer=tokenizer, prompt_mode='direc')"
   ]
  },
  {
   "cell_type": "code",
   "execution_count": null,
   "metadata": {},
   "outputs": [],
   "source": []
  },
  {
   "cell_type": "markdown",
   "metadata": {},
   "source": [
    "## Model"
   ]
  },
  {
   "cell_type": "markdown",
   "metadata": {},
   "source": [
    "Choose the way to load the model:\n",
    "- Huggingface model loading\n",
    "- Huggingface pipeline\n",
    "- vLLM"
   ]
  },
  {
   "cell_type": "markdown",
   "metadata": {},
   "source": [
    "### Huggingface"
   ]
  },
  {
   "cell_type": "code",
   "execution_count": null,
   "metadata": {},
   "outputs": [],
   "source": [
    "model = AutoModel.from_pretrained(path_dir_model, torch_dtype=torch.bfloat16, device_map='auto')"
   ]
  },
  {
   "cell_type": "code",
   "execution_count": null,
   "metadata": {},
   "outputs": [],
   "source": [
    "# set the model to the evaluation mode\n",
    "model.eval()\n",
    "# greedy decoding\n",
    "model.generation_config.do_sample = False\n",
    "model.generation_config.temperature = None\n",
    "model.generation_config.top_k = None\n",
    "model.generation_config.top_p = None"
   ]
  },
  {
   "cell_type": "code",
   "execution_count": null,
   "metadata": {},
   "outputs": [],
   "source": [
    "if tokenizer.pad_token_id is None:\n",
    "    tokenizer.pad_token_id = tokenizer.eos_token_id\n",
    "    print(\"Tokenizer: Now pad_token_id is:\", tokenizer.pad_token_id)\n",
    "else:\n",
    "    print(\"Tokenizer: pad_token_id is already set:\", tokenizer.pad_token_id)\n",
    "if model.generation_config.pad_token_id is None:\n",
    "    model.generation_config.pad_token_id = tokenizer.eos_token_id\n",
    "    print(\"Model: Now pad_token_id is:\", model.generation_config.pad_token_id)\n",
    "else:\n",
    "    print(\"Model: pad_token_id is already set:\", model.generation_config.pad_token_id)"
   ]
  },
  {
   "cell_type": "markdown",
   "metadata": {},
   "source": [
    "### HF Pipeline"
   ]
  },
  {
   "cell_type": "code",
   "execution_count": null,
   "metadata": {},
   "outputs": [],
   "source": [
    "from transformers import pipeline\n",
    "\n",
    "pipe = pipeline(\"text-generation\", model=path_dir_model, device=\"cuda\")"
   ]
  },
  {
   "cell_type": "code",
   "execution_count": null,
   "metadata": {},
   "outputs": [],
   "source": [
    "str_input = \"The medical condition is characterized by\"\n",
    "generated_text = pipe(str_input, num_return_sequences=1)"
   ]
  },
  {
   "cell_type": "markdown",
   "metadata": {},
   "source": [
    "### vLLM "
   ]
  },
  {
   "cell_type": "code",
   "execution_count": null,
   "metadata": {},
   "outputs": [],
   "source": [
    "if \"mistral\" in model_name.lower() and \"biomistral\" not in model_name.lower():\n",
    "    print(f\"Loading {model_name} with mistral mode...\")\n",
    "    model = LLM(model=path_dir_model, tensor_parallel_size=num_gpus, dtype=\"bfloat16\", seed=seed, max_model_len=args.max_token_all, tokenizer_mode=\"mistral\", load_format=\"mistral\",\n",
    "    config_format=\"mistral\")\n",
    "else:\n",
    "    print(f\"Loading {model_name} ...\")\n",
    "    model = LLM(model=path_dir_model, tensor_parallel_size=num_gpus, dtype=\"bfloat16\", seed=seed, max_model_len=args.max_token_all, gpu_memory_utilization=0.9, enforce_eager=True)"
   ]
  },
  {
   "cell_type": "code",
   "execution_count": null,
   "metadata": {},
   "outputs": [],
   "source": [
    "sampling_params = SamplingParams(seed=seed, temperature=0, max_tokens=args.max_token_output)"
   ]
  },
  {
   "cell_type": "markdown",
   "metadata": {},
   "source": [
    "## Inference - test"
   ]
  },
  {
   "cell_type": "code",
   "execution_count": null,
   "metadata": {},
   "outputs": [],
   "source": [
    "idx = 0\n",
    "data = list_dict_data[idx]\n",
    "data"
   ]
  },
  {
   "cell_type": "code",
   "execution_count": null,
   "metadata": {},
   "outputs": [],
   "source": [
    "formatted_input= format_chat(\n",
    "    model_name=model_name,\n",
    "    tokenizer=tokenizer,\n",
    "    data=data,\n",
    "    max_token_input=args.max_token_input,\n",
    "    examples=task.examples,\n",
    ")"
   ]
  },
  {
   "cell_type": "code",
   "execution_count": null,
   "metadata": {},
   "outputs": [],
   "source": [
    "print(formatted_input)"
   ]
  },
  {
   "cell_type": "code",
   "execution_count": null,
   "metadata": {},
   "outputs": [],
   "source": [
    "output = model.generate(formatted_input, sampling_params=sampling_params, use_tqdm=False)\n",
    "for output_one in output:\n",
    "    generated_text = output_one.outputs[0].text\n",
    "    print(f\"Prompt:\\n\\t{formatted_input}\")\n",
    "    print(\"-\"*50)\n",
    "    print(f\"Generated text:\\n\\t{generated_text}\")"
   ]
  },
  {
   "cell_type": "markdown",
   "metadata": {},
   "source": [
    "## Inference - task"
   ]
  },
  {
   "cell_type": "code",
   "execution_count": null,
   "metadata": {},
   "outputs": [],
   "source": [
    "num_sample = 100"
   ]
  },
  {
   "cell_type": "code",
   "execution_count": null,
   "metadata": {},
   "outputs": [],
   "source": [
    "# format the input text with the prompt\n",
    "list_input = []\n",
    "list_num_token = []\n",
    "for idx_data, dict_data in enumerate(list_dict_data[:num_sample]):\n",
    "    input_llm = format_chat(\n",
    "        model_name=model_name,\n",
    "        tokenizer=tokenizer,\n",
    "        data=dict_data,\n",
    "        max_token_input=args.max_token_input,\n",
    "        examples=task.examples,\n",
    "    )\n",
    "    list_input.append(input_llm)\n",
    "    len_token_input = len(tokenizer.tokenize(input_llm))\n",
    "    list_num_token.append(len_token_input)\n",
    "    if len_token_input > args.max_token_input:\n",
    "        print(f\"Input exceeds max token limit: id-{idx_data} - {len_token_input} > {args.max_token_input}\")\n",
    "print(f\"Data size: {len(list_input)}\")"
   ]
  },
  {
   "cell_type": "code",
   "execution_count": null,
   "metadata": {},
   "outputs": [],
   "source": [
    "print(list_input[1])"
   ]
  },
  {
   "cell_type": "code",
   "execution_count": null,
   "metadata": {},
   "outputs": [],
   "source": [
    "dict_stat_num_token = pd.Series(list_num_token).describe().to_dict()\n",
    "print(dict_stat_num_token)"
   ]
  },
  {
   "cell_type": "code",
   "execution_count": null,
   "metadata": {},
   "outputs": [],
   "source": [
    "# calculate how many data will be truncated, max_token_input = max_token_output\n",
    "num_truncate = sum([1 for num_token in list_num_token if num_token > args.max_token_input])\n",
    "proportion_truncate = num_truncate / len(list_num_token)\n",
    "print(f\"The number of data will be truncated: {num_truncate}\")\n",
    "print(f\"The proportion of data will be truncated: {proportion_truncate:.2%}\") "
   ]
  },
  {
   "cell_type": "code",
   "execution_count": null,
   "metadata": {},
   "outputs": [],
   "source": [
    "plt.hist(list_num_token, bins=30, alpha=0.7)\n",
    "plt.title('Token Count Distribution')\n",
    "plt.xlabel('Number of Tokens')\n",
    "plt.ylabel('Frequency')\n",
    "plt.show()"
   ]
  },
  {
   "cell_type": "code",
   "execution_count": null,
   "metadata": {},
   "outputs": [],
   "source": [
    "list_pred = []\n",
    "output = model.generate(list_input, sampling_params=sampling_params, use_tqdm=True)\n",
    "for output_one in output:\n",
    "    generated_text = output_one.outputs[0].text\n",
    "    list_pred.append(generated_text)"
   ]
  },
  {
   "cell_type": "markdown",
   "metadata": {},
   "source": [
    "## Result"
   ]
  },
  {
   "cell_type": "code",
   "execution_count": null,
   "metadata": {},
   "outputs": [],
   "source": [
    "for input_text, pred_text in zip(list_input, list_pred):\n",
    "    print(f\"Input text:\\n\\t{input_text}\")\n",
    "    print(\"-\"*50)\n",
    "    print(f\"Generated text:\\n\\t{pred_text}\")\n",
    "    print(\"=\"*100)"
   ]
  },
  {
   "cell_type": "code",
   "execution_count": null,
   "metadata": {},
   "outputs": [],
   "source": [
    "for idx_data, dict_data in enumerate(list_dict_data[:num_sample]):\n",
    "    dict_data[\"pred\"] = list_pred[idx_data]"
   ]
  },
  {
   "cell_type": "code",
   "execution_count": null,
   "metadata": {},
   "outputs": [],
   "source": [
    "list_pred_extracted = task.get_pred(list_dict_data[:num_sample], prompt_mode=\"direct\")\n",
    "list_label_extracted = task.get_label(list_dict_data[:num_sample], prompt_mode=\"direct\")"
   ]
  },
  {
   "cell_type": "markdown",
   "metadata": {},
   "source": [
    "### list_pred"
   ]
  },
  {
   "cell_type": "code",
   "execution_count": null,
   "metadata": {},
   "outputs": [],
   "source": [
    "list_pred_extracted, num_failed = task.get_pred_none(list_pred=list_pred_extracted[:num_sample], list_label=list_label_extracted[:num_sample])\n",
    "print(f\"The number of failed data: {num_failed} ({num_failed/num_sample:.2%})\")"
   ]
  },
  {
   "cell_type": "code",
   "execution_count": null,
   "metadata": {},
   "outputs": [],
   "source": [
    "dict_performance = task.get_performance(list_pred_extracted, list_label_extracted)"
   ]
  },
  {
   "cell_type": "code",
   "execution_count": null,
   "metadata": {},
   "outputs": [],
   "source": [
    "dict_performance"
   ]
  },
  {
   "cell_type": "markdown",
   "metadata": {},
   "source": [
    "### list_list_pred"
   ]
  },
  {
   "cell_type": "code",
   "execution_count": null,
   "metadata": {},
   "outputs": [],
   "source": [
    "list_pred_extracted, num_failed = task.get_pred_none(list_pred=list_pred_extracted[:num_sample], list_label=list_label_extracted[:num_sample])\n",
    "print(f\"The number of failed data: {num_failed} ({num_failed/num_sample:.2%})\")"
   ]
  },
  {
   "cell_type": "code",
   "execution_count": null,
   "metadata": {},
   "outputs": [],
   "source": [
    "dict_performance, dict_performance_sample = task.get_performance(list_pred_extracted, list_label_extracted)"
   ]
  },
  {
   "cell_type": "code",
   "execution_count": null,
   "metadata": {},
   "outputs": [],
   "source": [
    "dict_performance"
   ]
  },
  {
   "cell_type": "markdown",
   "metadata": {},
   "source": [
    "## End"
   ]
  },
  {
   "cell_type": "code",
   "execution_count": null,
   "metadata": {},
   "outputs": [],
   "source": [
    "print('Done!')"
   ]
  },
  {
   "cell_type": "code",
   "execution_count": null,
   "metadata": {},
   "outputs": [],
   "source": []
  },
  {
   "cell_type": "code",
   "execution_count": null,
   "metadata": {},
   "outputs": [],
   "source": []
  }
 ],
 "metadata": {
  "kernelspec": {
   "display_name": "vllm",
   "language": "python",
   "name": "python3"
  },
  "language_info": {
   "codemirror_mode": {
    "name": "ipython",
    "version": 3
   },
   "file_extension": ".py",
   "mimetype": "text/x-python",
   "name": "python",
   "nbconvert_exporter": "python",
   "pygments_lexer": "ipython3",
   "version": "3.10.15"
  }
 },
 "nbformat": 4,
 "nbformat_minor": 2
}
